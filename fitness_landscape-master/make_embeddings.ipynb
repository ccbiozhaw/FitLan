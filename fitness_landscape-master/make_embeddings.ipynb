{
 "cells": [
  {
   "cell_type": "code",
   "execution_count": 1,
   "id": "5cd23e9a-f46c-49cf-8991-873d7a70a8ac",
   "metadata": {
    "tags": []
   },
   "outputs": [],
   "source": [
    "# !pip3 install fair-esm  # latest release, OR:\n",
    "# !pip3 install git+https://github.com/facebookresearch/esm.git  # bleeding edge, current repo main branch\n",
    "# !pip3 install -U scikit-learn\n",
    "# !pip3 install torch torchvision torchaudio"
   ]
  },
  {
   "cell_type": "code",
   "execution_count": 2,
   "id": "186f7030-248b-4276-9ed1-77bf0ec1cbed",
   "metadata": {
    "tags": []
   },
   "outputs": [],
   "source": [
    "import numpy as np\n",
    "import matplotlib.pyplot as plt\n",
    "import pandas as pd\n",
    "import os\n",
    "\n",
    "from sklearn.decomposition import PCA\n",
    "import math\n",
    "\n",
    "import torch\n",
    "import esm"
   ]
  },
  {
   "cell_type": "code",
   "execution_count": 3,
   "id": "99e26c7f-b992-4826-b97a-34f36a9bf397",
   "metadata": {
    "tags": []
   },
   "outputs": [],
   "source": [
    "class config:\n",
    "    sequence_idx_to_mutations = 1 # add + 1 to map from structure idx to sequence idx. eg K50Q -> K51Q in sequence (0 index)"
   ]
  },
  {
   "cell_type": "code",
   "execution_count": 4,
   "id": "d81dc678-8101-4f1a-b506-b614eb7e43ed",
   "metadata": {
    "tags": []
   },
   "outputs": [],
   "source": [
    "def mutate_full_sequence(wt_sequence: str, mutations ) -> str:\n",
    "    \"\"\"replace residues in wild type sequence with list of mutations of type M100N\n",
    "    \"\"\"\n",
    "    new_sequence = list(wt_sequence)\n",
    "    for mut in mutations:\n",
    "        if mut == \"\":\n",
    "            continue\n",
    "        try:\n",
    "            wt_aa = mut[0]\n",
    "            idx = int(mut[1:-1]) + config.sequence_idx_to_mutations\n",
    "            new_aa = mut[-1]\n",
    "        except Exception as e:\n",
    "            print(mut, mutations)\n",
    "            raise(e)\n",
    "            \n",
    "        assert wt_sequence[idx] == wt_aa\n",
    "        new_sequence[idx] = new_aa\n",
    "\n",
    "    return \"\".join(new_sequence)"
   ]
  },
  {
   "cell_type": "code",
   "execution_count": 5,
   "id": "b6724908-90b7-4d0a-90cb-5e1ef31a4308",
   "metadata": {},
   "outputs": [],
   "source": [
    "def clean_up_name(name):\n",
    "    return name.split(\"_\")[0]"
   ]
  },
  {
   "cell_type": "code",
   "execution_count": 6,
   "id": "6223a687-fdac-4a91-9f77-07fa4ecfca40",
   "metadata": {},
   "outputs": [],
   "source": [
    "df = pd.read_excel(\"KempData.xlsx\", sheet_name=\"SeqAct_combined_cleaned\")"
   ]
  },
  {
   "cell_type": "code",
   "execution_count": 7,
   "id": "2596b2f3-c0b2-49a5-bdd0-50687c61f94e",
   "metadata": {},
   "outputs": [],
   "source": [
    "df = df[[\"Name\", \"Mutations\", \"Average Slope\"]]"
   ]
  },
  {
   "cell_type": "code",
   "execution_count": 8,
   "id": "260077b1-425b-4834-b70c-f930518417d9",
   "metadata": {},
   "outputs": [
    {
     "data": {
      "text/plain": [
       "0.0032823688146261126"
      ]
     },
     "execution_count": 8,
     "metadata": {},
     "output_type": "execute_result"
    }
   ],
   "source": [
    "df.loc[df.Name == \"HG3.R5\"][\"Average Slope\"].values[0]"
   ]
  },
  {
   "cell_type": "code",
   "execution_count": 9,
   "id": "293786ea-259a-4ec6-81a8-87837e995e22",
   "metadata": {},
   "outputs": [],
   "source": [
    "df[\"activity\"] = df[\"Average Slope\"] / df.loc[df.Name == \"HG3.R5\"][\"Average Slope\"].values[0]"
   ]
  },
  {
   "cell_type": "code",
   "execution_count": 10,
   "id": "cbeb3fef-c42f-4dab-896e-91a459f69cbc",
   "metadata": {},
   "outputs": [],
   "source": [
    "data = [\n",
    "    (\"hg3\", \"MAEAAQSVDQLIKARGKVYFGVATDQNRLTTGKNAAIIQADFGMVWPENSMKWDATEPSQGNFNFAGADYLVNWAQQNGKLIGGGMLVWHSQLPSWVSSITDKNTLTNVMKNHITTLMTRYKGKIRAWDVVGEAFNEDGSLRQTVFLNVIGEDYIPIAFQTARAADPNAKLYIMDYNLDSASYPKTQAIVNRVKQWRAAGVPIDGIGSQTHLSAGQGAGVLQALPLLASAGTPEVSILMLDVAGASPTDYVNVVNACLNVQSCVGITVFGVADPDSWRASTTPLLFDGNFNPKPAYNAIVQDLQQGSIEGRGHHHHHH\"),\n",
    "    (\"hg3_k50Q\", \"MAEAAQSVDQLIKARGKVYFGVATDQNRLTTGKNAAIIQADFGMVWPENSMQWDATEPSQGNFNFAGADYLVNWAQQNGKLIGGGMLVWHSQLPSWVSSITDKNTLTNVMKNHITTLMTRYKGKIRAWDVVGEAFNEDGSLRQTVFLNVIGEDYIPIAFQTARAADPNAKLYIMDYNLDSASYPKTQAIVNRVKQWRAAGVPIDGIGSQTHLSAGQGAGVLQALPLLASAGTPEVSILMLDVAGASPTDYVNVVNACLNVQSCVGITVFGVADPDSWRASTTPLLFDGNFNPKPAYNAIVQDLQQGSIEGRGHHHHHH\"),\n",
    "    (\"hg3.3\", \"MAEAAQSIDQLIKARGKVYFGVATDQNRLTTGKNAAIIQADFGMVWPENSMHWDATEPSQGNFNFAGADYLVNWAQQNGKLIGGGCLVWHRDLPSWVSSITDKNTLTNVMKNHITTLMTRYKGKIRNWDVVGEAFNEDGSLRQTVFLNVIGEDYIPIAFQTARAADPNAKLYIMDYNLDSASYPKTQAIVNRVKQWRAAGVPIDGIGSQTHLSAGQGAGVLQALPLLASAGTPEVSILMLDVAGASPTDYVNVVNACLNVQSCVGITVFGVADPDSWRASTTPLLFDGNFNPKPAYNAIVQDLQQGSIEGRGHHHHHH\"),\n",
    "    (\"hg3.7\", \"MAEAAQSIDQLIKARGKVYFGVATDQNRLTTGKNAAIIKADFGMVWPENSMQWDATEPSQGNFNFAGADYLVNWAQQNGKLIGGGCLVWHRHLPSWVSSITDKNTLTNVMKNHITTLMTRYKGKIRNWDVVGEAFNEDGSLRQTVFLNVIGEDYIPIAFQTARAADPNAKLYIMDYNLDSASYPKTQAIVNRVKQWRAAGVPIDGIGSQTHLSAGQGAGVLQALPLLASAGTPEVSILMLDVAGASPTDYVNVVNACLNVQSCVGITVFGVADPDSWRASTTPLLFDGNFNPKPAYNAIVQDLQQGSIEGRGHHHHHH\"),\n",
    "    (\"hg3.14\", \"MAEAAQSIDQLIKARGKVYFGVATDQNRLTTGKNAAIIKADFGMVWPENSMQWDATEPSQGNFNFAGADYLVNWAQQNGKLIGAGCLVWHSHLPSWVSSITDKNTLINVMKNHITTLMTRYKGKIRTWDVVGEAFNEDGSLRQNVFLNVIGEDYIPIAFQTARAADPNAKLYIMDYNLDSASYPKTQAIVNRVKQWRAAGVPIDGIGSQMHLSAGQGAGVLQALPLLASAGTPEVSILMLDVAGASPTDYVNVVNACLNVQSCVGITVFGVADPDSWRASSTPLLFDGNFNPKPAYNAIVQNLQQGSIEGRGHHHHHH\"),\n",
    "    (\"hg3.17\", \"MAEAAQSIDQLIKARGKVYFGVATDQNRLTTGKNAAIIKADFGMVWPEESMQWDATEPSQGNFNFAGADYLVNWAQQNGKLIGAGCLVWHNFLPSWVSSITDKNTLINVMKNHITTLMTRYKGKIRTWDVVGEAFNEDGSLRQNVFLNVIGEDYIPIAFQTARAADPNAKLYIMDYNLDSASYPKTQAIVNRVKQWRAAGVPIDGIGSQMHLSAGQGAGVLQALPLLASAGTPEVSILMLDVAGASPTDYVNVVNACLNVQSCVGITVMGVADPDSAFASSTPLLFDGNFNPKPAYNAIVQNLQQGSIEGRGHHHHHH\"),\n",
    "    \n",
    "    (\"hg3.R1\", \"MAEAAQSVDQLIKARGKVYFGVATDQNRLTTGKNAAIIQADFGMVWPENSMQWDATEPSQGNFNFAGADYLVNWAQQNGKLIGGGMLVWHSQLPSWVSSITDKNTLTNVMKNHITTLMTRYKGKIRAWDVVGEAFNEDGSLRQTVFLNVIGEDYIPIAFQTARAADPSAKLYIADYNLDSASYPKTQAIVNRVKQWRAAGVPIDGIGSQTHLSAGQGAGVLQALPLLASAGTPEVSILMLDVAGASPTDYVNVVNACLNVQSCVGITVFGVADPDSWRASTTPLLFDGNFNPKPAYNAIVQDLQQGSIEGRGHHHHHH\"),\n",
    "    (\"hg3.R2\", \"MAEAAQSVDQLIKARGKVYFGVATDQNRLTTGKNAAIIQADFGMVWPENSMQWDATEPSQGNFNFAGADYLVNWAQQNGKLIGGGMLVWHSHLPSWVSSITDKNTLTNVMKNHITTLMTRYKGKIRAWDVVGEAFNEDGSLRQTVFLNVIGEDYIPIAFQTARAADPNAKLYIADYNLDSASYPKTQAIVNRVKQWRAAGVPIDGIGSMTHLSAGQGAGVLQALPLLASAGTPEVSILMLDVAGASPTDYVNVVNACLNVQSCVGITVFGVADPDSWRASTTPLLFDGNFNPKPAYNAIVQDLQQGSIEGRGHHHHHH\"),\n",
    "    (\"hg3.R3\", \"MAEAAQSVDQLIKARGKVYFGVATDQNRLTTGKNAAIIQADFGMVWPENSLQWDAIEPSQGNFNFAGADYLVNWAQQNGKLIGGGMLVWHSHLPSWVSSITDKETLTNVMKNHITTLMTRYKGKIRAWDVVGSAFNEDGSLRQTVFLNVIGEDYIKIAFQTARAADPNAKLYIADYNLDSASYPKTQAIVNKVKQWRAAGVPIDGIGSMTHLSAGQGAGVLQALPLLASAGTPEVSILMLDVAGASPTDYVNVVNACLNVQSCVGITVFGVADPDSWRASTTPLLFDGNFNPKPAYNAIVQDLQQGSIEGRGHHHHHH\"),\n",
    "    (\"hg3.R4\", \"MAEAAQSVDQLMKARGKVYFGVATDQNRLTTGKNAAIIQADFGMVWPENSLQWDAIEPSQGNFNFAGADYVVNWAQQNGKLIGGGMLVWHSHLPSWVSSITDKETLTNVMKNHITTLMTRYKGKIRCWDVVGSAFNEDGSLRQTVFLNVIGEDYIKIAFQTARAADPNAKLYIADYNLDSASYPKTQAIVNKVKQWRAAGVPIDGIGSMTHLSAGQGAGVLQALPLLASAGTPEVSILMLDVAGASPTDYVNVVNACLNVQSCVGITSFGVADPDSWRASTTPLLFDGNFNPKPAYNAIVQDLQQGSIEGRGHHHHHH\"),\n",
    "    (\"hg3.R5\", \"MAEAAQSVDQLMKARGKVYFGVATDQNRLTTGKNAAIIQADFGMVWPENSLQWDAVEPSQGNFNFAGADYVVNWAQQNGKLIGGGMLVWHSHLPSWVSSITDKETLTNVMKNHITTLMTRYKGKIRVWDVVGSAFNEDGSLRQTVFLNVIGEDYIKIAFQTARAADPNAKLYIADSNLDSASYPKTQAIVNKVKQWRAAGVPIDGIGSMTNLSAGQGAGVLQALPLLASAGTPEVSILMLDVAGASPTDYVNVVNACLNVQSCVGITSFGVADPDSWRASTTPLLFDGNFNPKPAYNAIVQDLQQGSIEGRGHHHHHH\"), \n",
    "\n",
    "    (\"HG3R5w17\", \"MAEAAQSIDQLMKARGKVYFGVATDQNRLTTGKNAAIIKADFGMVWPEESLQWDAVEPSQGNFNFAGADYVVNWAQQNGKLIGAGCLVWHNHLPSWVSSITDKETLINVMKNHITTLMTRYKGKIRVWDVVGSAFNEDGSLRQNVFLNVIGEDYIKIAFQTARAADPNAKLYIADSNLDSASYPKTQAIVNKVKQWRAAGVPIDGIGSMMNLSAGQGAGVLQALPLLASAGTPEVSILMLDVAGASPTDYVNVVNACLNVQSCVGITSMGVADPDSAFASSTPLLFDGNFNPKPAYNAIVQNLQQGSIEGRGHHHHHH\"),\n",
    "    (\"HG317wR5\", \"MAEAAQSIDQLMKARGKVYFGVATDQNRLTTGKNAAIIKADFGMVWPEESLQWDAVEPSQGNFNFAGADYVVNWAQQNGKLIGAGCLVWHNFLPSWVSSITDKETLINVMKNHITTLMTRYKGKIRTWDVVGSAFNEDGSLRQNVFLNVIGEDYIKIAFQTARAADPNAKLYIADSNLDSASYPKTQAIVNKVKQWRAAGVPIDGIGSMMNLSAGQGAGVLQALPLLASAGTPEVSILMLDVAGASPTDYVNVVNACLNVQSCVGITSMGVADPDSAFASSTPLLFDGNFNPKPAYNAIVQNLQQGSIEGRGHHHHHH\"),\n",
    "]\n",
    "\n",
    "activities = [1, 2.5, 8, 25,250 ,396,3,5, 66, 91, 458, 45, 45]\n",
    "max_value = 458\n",
    "activities = [x / max_value for x in activities]"
   ]
  },
  {
   "cell_type": "code",
   "execution_count": 11,
   "id": "aee41269-6924-4c7c-8b10-f56126b1a4b4",
   "metadata": {},
   "outputs": [],
   "source": [
    "new_data = []\n",
    "for a,activity in zip(data, activities):\n",
    "    name, seq = a\n",
    "    new_data.append((name, seq, activity))\n",
    "\n",
    "data = new_data"
   ]
  },
  {
   "cell_type": "code",
   "execution_count": 12,
   "id": "1366fa66-5677-4294-8599-e5706a206707",
   "metadata": {
    "tags": []
   },
   "outputs": [],
   "source": [
    "for i, row in df.iterrows():\n",
    "    wt_sequence = data[0][1]\n",
    "    mutations = row[\"Mutations\"].split(\",\")\n",
    "    mutated_sequence = mutate_full_sequence(wt_sequence, mutations)\n",
    "    data.append((row.Name, mutated_sequence, row[\"activity\"]))"
   ]
  },
  {
   "cell_type": "code",
   "execution_count": 13,
   "id": "010b104b-ae36-4d89-99e4-7e0b184eaccb",
   "metadata": {
    "tags": []
   },
   "outputs": [
    {
     "name": "stdout",
     "output_type": "stream",
     "text": [
      "('hg3', 'MAEAAQSVDQLIKARGKVYFGVATDQNRLTTGKNAAIIQADFGMVWPENSMKWDATEPSQGNFNFAGADYLVNWAQQNGKLIGGGMLVWHSQLPSWVSSITDKNTLTNVMKNHITTLMTRYKGKIRAWDVVGEAFNEDGSLRQTVFLNVIGEDYIPIAFQTARAADPNAKLYIMDYNLDSASYPKTQAIVNRVKQWRAAGVPIDGIGSQTHLSAGQGAGVLQALPLLASAGTPEVSILMLDVAGASPTDYVNVVNACLNVQSCVGITVFGVADPDSWRASTTPLLFDGNFNPKPAYNAIVQDLQQGSIEGRGHHHHHH', 0.002183406113537118)\n",
      "('hg3_k50Q', 'MAEAAQSVDQLIKARGKVYFGVATDQNRLTTGKNAAIIQADFGMVWPENSMQWDATEPSQGNFNFAGADYLVNWAQQNGKLIGGGMLVWHSQLPSWVSSITDKNTLTNVMKNHITTLMTRYKGKIRAWDVVGEAFNEDGSLRQTVFLNVIGEDYIPIAFQTARAADPNAKLYIMDYNLDSASYPKTQAIVNRVKQWRAAGVPIDGIGSQTHLSAGQGAGVLQALPLLASAGTPEVSILMLDVAGASPTDYVNVVNACLNVQSCVGITVFGVADPDSWRASTTPLLFDGNFNPKPAYNAIVQDLQQGSIEGRGHHHHHH', 0.0054585152838427945)\n",
      "('hg3.3', 'MAEAAQSIDQLIKARGKVYFGVATDQNRLTTGKNAAIIQADFGMVWPENSMHWDATEPSQGNFNFAGADYLVNWAQQNGKLIGGGCLVWHRDLPSWVSSITDKNTLTNVMKNHITTLMTRYKGKIRNWDVVGEAFNEDGSLRQTVFLNVIGEDYIPIAFQTARAADPNAKLYIMDYNLDSASYPKTQAIVNRVKQWRAAGVPIDGIGSQTHLSAGQGAGVLQALPLLASAGTPEVSILMLDVAGASPTDYVNVVNACLNVQSCVGITVFGVADPDSWRASTTPLLFDGNFNPKPAYNAIVQDLQQGSIEGRGHHHHHH', 0.017467248908296942)\n",
      "('hg3.7', 'MAEAAQSIDQLIKARGKVYFGVATDQNRLTTGKNAAIIKADFGMVWPENSMQWDATEPSQGNFNFAGADYLVNWAQQNGKLIGGGCLVWHRHLPSWVSSITDKNTLTNVMKNHITTLMTRYKGKIRNWDVVGEAFNEDGSLRQTVFLNVIGEDYIPIAFQTARAADPNAKLYIMDYNLDSASYPKTQAIVNRVKQWRAAGVPIDGIGSQTHLSAGQGAGVLQALPLLASAGTPEVSILMLDVAGASPTDYVNVVNACLNVQSCVGITVFGVADPDSWRASTTPLLFDGNFNPKPAYNAIVQDLQQGSIEGRGHHHHHH', 0.05458515283842795)\n",
      "...\n"
     ]
    }
   ],
   "source": [
    "for i in range(4):\n",
    "    print(data[i])\n",
    "print(\"...\")"
   ]
  },
  {
   "cell_type": "code",
   "execution_count": 14,
   "id": "54de3237-a222-4192-bcfb-45e044ffdb8a",
   "metadata": {},
   "outputs": [
    {
     "data": {
      "text/plain": [
       "210"
      ]
     },
     "execution_count": 14,
     "metadata": {},
     "output_type": "execute_result"
    }
   ],
   "source": [
    "len(data)"
   ]
  },
  {
   "cell_type": "code",
   "execution_count": 15,
   "id": "95308b4c-7f4f-4673-9029-52cb949df130",
   "metadata": {},
   "outputs": [],
   "source": [
    "ndf = pd.DataFrame(data)"
   ]
  },
  {
   "cell_type": "code",
   "execution_count": 16,
   "id": "abcdd486-fc74-4993-996b-3d641d1afd08",
   "metadata": {},
   "outputs": [],
   "source": [
    "ndf = ndf.drop_duplicates(1).reset_index(drop=True)"
   ]
  },
  {
   "cell_type": "code",
   "execution_count": 17,
   "id": "a78fc4f1-4a5a-44b1-8ab8-eb60f862efe3",
   "metadata": {},
   "outputs": [
    {
     "data": {
      "text/html": [
       "<div>\n",
       "<style scoped>\n",
       "    .dataframe tbody tr th:only-of-type {\n",
       "        vertical-align: middle;\n",
       "    }\n",
       "\n",
       "    .dataframe tbody tr th {\n",
       "        vertical-align: top;\n",
       "    }\n",
       "\n",
       "    .dataframe thead th {\n",
       "        text-align: right;\n",
       "    }\n",
       "</style>\n",
       "<table border=\"1\" class=\"dataframe\">\n",
       "  <thead>\n",
       "    <tr style=\"text-align: right;\">\n",
       "      <th></th>\n",
       "      <th>0</th>\n",
       "      <th>1</th>\n",
       "      <th>2</th>\n",
       "    </tr>\n",
       "  </thead>\n",
       "  <tbody>\n",
       "    <tr>\n",
       "      <th>13</th>\n",
       "      <td>1</td>\n",
       "      <td>MAEAAQSVDQLMKARGKVYFGVATDQNRLTTGKNAAIIQADFGMVW...</td>\n",
       "      <td>1.125701</td>\n",
       "    </tr>\n",
       "    <tr>\n",
       "      <th>14</th>\n",
       "      <td>2</td>\n",
       "      <td>MAEAAQSVDQLIKARGKVYFGVATDQNRLTTGKNAAIIQADFGMVW...</td>\n",
       "      <td>1.111081</td>\n",
       "    </tr>\n",
       "    <tr>\n",
       "      <th>15</th>\n",
       "      <td>3</td>\n",
       "      <td>MAEAAQSIDQLIKARGKVYFGVATDQNRLTTGKNAAIIKADFGMVW...</td>\n",
       "      <td>1.034208</td>\n",
       "    </tr>\n",
       "    <tr>\n",
       "      <th>16</th>\n",
       "      <td>4</td>\n",
       "      <td>MAEAAQSVDQLIKARGKVYFGVATDQNRLTTGKNAAIIKADFGMVW...</td>\n",
       "      <td>1.007588</td>\n",
       "    </tr>\n",
       "    <tr>\n",
       "      <th>10</th>\n",
       "      <td>hg3.R5</td>\n",
       "      <td>MAEAAQSVDQLMKARGKVYFGVATDQNRLTTGKNAAIIQADFGMVW...</td>\n",
       "      <td>1.000000</td>\n",
       "    </tr>\n",
       "    <tr>\n",
       "      <th>17</th>\n",
       "      <td>5</td>\n",
       "      <td>MAEAAQSVDQLMKARGKVYFGVATDQNRLTTGKNAAIIQADFGMVW...</td>\n",
       "      <td>0.985869</td>\n",
       "    </tr>\n",
       "    <tr>\n",
       "      <th>18</th>\n",
       "      <td>6</td>\n",
       "      <td>MAEAAQSIDQLIKARGKVYFGVATDQNRLTTGKNAAIIQADFGMVW...</td>\n",
       "      <td>0.975596</td>\n",
       "    </tr>\n",
       "    <tr>\n",
       "      <th>19</th>\n",
       "      <td>7</td>\n",
       "      <td>MAEAAQSIDQLIKARGKVYFGVATDQNRLTTGKNAAIIQADFGMVW...</td>\n",
       "      <td>0.968184</td>\n",
       "    </tr>\n",
       "    <tr>\n",
       "      <th>20</th>\n",
       "      <td>8</td>\n",
       "      <td>MAEAAQSVDQLMKARGKVYFGVATDQNRLTTGKNAAIIKADFGMVW...</td>\n",
       "      <td>0.963019</td>\n",
       "    </tr>\n",
       "    <tr>\n",
       "      <th>21</th>\n",
       "      <td>9</td>\n",
       "      <td>MAEAAQSVDQLIKARGKVYFGVATDQNRLTTGKNAAIIQADFGMVW...</td>\n",
       "      <td>0.955368</td>\n",
       "    </tr>\n",
       "    <tr>\n",
       "      <th>22</th>\n",
       "      <td>10</td>\n",
       "      <td>MAEAAQSVDQLMKARGKVYFGVATDQNRLTTGKNAAIIQADFGMVW...</td>\n",
       "      <td>0.952008</td>\n",
       "    </tr>\n",
       "    <tr>\n",
       "      <th>23</th>\n",
       "      <td>11</td>\n",
       "      <td>MAEAAQSIDQLMKARGKVYFGVATDQNRLTTGKNAAIIQADFGMVW...</td>\n",
       "      <td>0.897592</td>\n",
       "    </tr>\n",
       "    <tr>\n",
       "      <th>24</th>\n",
       "      <td>12</td>\n",
       "      <td>MAEAAQSVDQLMKARGKVYFGVATDQNRLTTGKNAAIIKADFGMVW...</td>\n",
       "      <td>0.883251</td>\n",
       "    </tr>\n",
       "    <tr>\n",
       "      <th>25</th>\n",
       "      <td>13</td>\n",
       "      <td>MAEAAQSVDQLMKARGKVYFGVATDQNRLTTGKNAAIIKADFGMVW...</td>\n",
       "      <td>0.882888</td>\n",
       "    </tr>\n",
       "    <tr>\n",
       "      <th>26</th>\n",
       "      <td>14</td>\n",
       "      <td>MAEAAQSVDQLMKARGKVYFGVATDQNRLTTGKNAAIIQADFGMVW...</td>\n",
       "      <td>0.881194</td>\n",
       "    </tr>\n",
       "    <tr>\n",
       "      <th>27</th>\n",
       "      <td>15</td>\n",
       "      <td>MAEAAQSVDQLMKARGKVYFGVATDQNRLTTGKNAAIIQADFGMVW...</td>\n",
       "      <td>0.868075</td>\n",
       "    </tr>\n",
       "    <tr>\n",
       "      <th>28</th>\n",
       "      <td>16</td>\n",
       "      <td>MAEAAQSVDQLMKARGKVYFGVATDQNRLTTGKNAAIIKADFGMVW...</td>\n",
       "      <td>0.865588</td>\n",
       "    </tr>\n",
       "    <tr>\n",
       "      <th>5</th>\n",
       "      <td>hg3.17</td>\n",
       "      <td>MAEAAQSIDQLIKARGKVYFGVATDQNRLTTGKNAAIIKADFGMVW...</td>\n",
       "      <td>0.864629</td>\n",
       "    </tr>\n",
       "    <tr>\n",
       "      <th>29</th>\n",
       "      <td>17</td>\n",
       "      <td>MAEAAQSVDQLMKARGKVYFGVATDQNRLTTGKNAAIIQADFGMVW...</td>\n",
       "      <td>0.862834</td>\n",
       "    </tr>\n",
       "    <tr>\n",
       "      <th>30</th>\n",
       "      <td>18</td>\n",
       "      <td>MAEAAQSVDQLMKARGKVYFGVATDQNRLTTGKNAAIIQADFGMVW...</td>\n",
       "      <td>0.831804</td>\n",
       "    </tr>\n",
       "  </tbody>\n",
       "</table>\n",
       "</div>"
      ],
      "text/plain": [
       "         0                                                  1         2\n",
       "13       1  MAEAAQSVDQLMKARGKVYFGVATDQNRLTTGKNAAIIQADFGMVW...  1.125701\n",
       "14       2  MAEAAQSVDQLIKARGKVYFGVATDQNRLTTGKNAAIIQADFGMVW...  1.111081\n",
       "15       3  MAEAAQSIDQLIKARGKVYFGVATDQNRLTTGKNAAIIKADFGMVW...  1.034208\n",
       "16       4  MAEAAQSVDQLIKARGKVYFGVATDQNRLTTGKNAAIIKADFGMVW...  1.007588\n",
       "10  hg3.R5  MAEAAQSVDQLMKARGKVYFGVATDQNRLTTGKNAAIIQADFGMVW...  1.000000\n",
       "17       5  MAEAAQSVDQLMKARGKVYFGVATDQNRLTTGKNAAIIQADFGMVW...  0.985869\n",
       "18       6  MAEAAQSIDQLIKARGKVYFGVATDQNRLTTGKNAAIIQADFGMVW...  0.975596\n",
       "19       7  MAEAAQSIDQLIKARGKVYFGVATDQNRLTTGKNAAIIQADFGMVW...  0.968184\n",
       "20       8  MAEAAQSVDQLMKARGKVYFGVATDQNRLTTGKNAAIIKADFGMVW...  0.963019\n",
       "21       9  MAEAAQSVDQLIKARGKVYFGVATDQNRLTTGKNAAIIQADFGMVW...  0.955368\n",
       "22      10  MAEAAQSVDQLMKARGKVYFGVATDQNRLTTGKNAAIIQADFGMVW...  0.952008\n",
       "23      11  MAEAAQSIDQLMKARGKVYFGVATDQNRLTTGKNAAIIQADFGMVW...  0.897592\n",
       "24      12  MAEAAQSVDQLMKARGKVYFGVATDQNRLTTGKNAAIIKADFGMVW...  0.883251\n",
       "25      13  MAEAAQSVDQLMKARGKVYFGVATDQNRLTTGKNAAIIKADFGMVW...  0.882888\n",
       "26      14  MAEAAQSVDQLMKARGKVYFGVATDQNRLTTGKNAAIIQADFGMVW...  0.881194\n",
       "27      15  MAEAAQSVDQLMKARGKVYFGVATDQNRLTTGKNAAIIQADFGMVW...  0.868075\n",
       "28      16  MAEAAQSVDQLMKARGKVYFGVATDQNRLTTGKNAAIIKADFGMVW...  0.865588\n",
       "5   hg3.17  MAEAAQSIDQLIKARGKVYFGVATDQNRLTTGKNAAIIKADFGMVW...  0.864629\n",
       "29      17  MAEAAQSVDQLMKARGKVYFGVATDQNRLTTGKNAAIIQADFGMVW...  0.862834\n",
       "30      18  MAEAAQSVDQLMKARGKVYFGVATDQNRLTTGKNAAIIQADFGMVW...  0.831804"
      ]
     },
     "execution_count": 17,
     "metadata": {},
     "output_type": "execute_result"
    }
   ],
   "source": [
    "ndf.sort_values(2, ascending=False)[:20]"
   ]
  },
  {
   "cell_type": "code",
   "execution_count": 18,
   "id": "c1dca6e5-b37f-4689-938d-ca33939e85d2",
   "metadata": {},
   "outputs": [],
   "source": [
    "data = [(x,y, z) for a, (x,y, z) in ndf.iterrows()]"
   ]
  },
  {
   "cell_type": "code",
   "execution_count": 19,
   "id": "3640236a-fddd-4d4c-8502-d24b28cb84be",
   "metadata": {
    "tags": []
   },
   "outputs": [],
   "source": [
    "ls = range(len(data))"
   ]
  },
  {
   "cell_type": "code",
   "execution_count": 20,
   "id": "9202a6df-6856-46b1-9683-a89f5b267659",
   "metadata": {},
   "outputs": [
    {
     "data": {
      "text/plain": [
       "208"
      ]
     },
     "execution_count": 20,
     "metadata": {},
     "output_type": "execute_result"
    }
   ],
   "source": [
    "len(data)"
   ]
  },
  {
   "cell_type": "code",
   "execution_count": 21,
   "id": "d182fbdb-7eb8-4a8f-81ea-871dc3511a33",
   "metadata": {
    "tags": []
   },
   "outputs": [],
   "source": [
    "chunks = np.array_split(ls, len(data))"
   ]
  },
  {
   "cell_type": "code",
   "execution_count": 22,
   "id": "4c963776-4053-4fd6-9c9c-8360d3032abc",
   "metadata": {},
   "outputs": [],
   "source": [
    "import gc"
   ]
  },
  {
   "cell_type": "code",
   "execution_count": 23,
   "id": "5d80c3e0-d7ee-4991-aa9f-d164e55276b4",
   "metadata": {
    "tags": []
   },
   "outputs": [],
   "source": [
    "reps = []\n",
    "\n",
    "for c in chunks:\n",
    "    dta = data[c.min(): c.max() + 1]\n",
    "    model, alphabet = esm.pretrained.esm2_t36_3B_UR50D()\n",
    "    batch_converter = alphabet.get_batch_converter()\n",
    "    model.eval()  # disables dropout for deterministic results\n",
    "    dta = [(a, b) for (a, b, c) in dta]\n",
    "    # Prepare data (first 2 sequences from ESMStructuralSplitDataset superfamily / 4)\n",
    "    batch_labels, batch_strs, batch_tokens = batch_converter(dta)\n",
    "    batch_lens = (batch_tokens != alphabet.padding_idx).sum(1)\n",
    "\n",
    "    print(\"predicting\")\n",
    "    # Extract per-residue representations (on CPU)\n",
    "    with torch.no_grad():\n",
    "        results = model(batch_tokens, repr_layers=[36], return_contacts=True)\n", 
    "    token_representations = results[\"representations\"][36]\n", 
    "\n",
    "    print(\"representations\")\n",
    "    # Generate per-sequence representations via averaging\n",
    "    # NOTE: token 0 is always a beginning-of-sequence token, so the first residue is token 1.\n",
    "    sequence_representations = []\n",
    "    for i, tokens_len in enumerate(batch_lens):\n",
    "        sequence_representations.append(token_representations[i, 1 : tokens_len - 1].mean(0))\n",
    "    print(\"done\")\n",
    "    reps.append(sequence_representations)\n",
    "    gc.collect()"
   ]
  },
  {
   "cell_type": "code",
   "execution_count": 25,
   "id": "cb5e2391-667a-457f-a099-44aa5e21af2d",
   "metadata": {
    "tags": []
   },
   "outputs": [],
   "source": [
    "reps_flat = [item for sublist in reps for item in sublist]"
   ]
  },
  {
   "cell_type": "code",
   "execution_count": 26,
   "id": "84445860-f010-4e33-bc91-ba1e4c91c810",
   "metadata": {
    "tags": []
   },
   "outputs": [],
   "source": [
    "nx = np.array([x.numpy() for x in reps_flat])"
   ]
  },
  {
   "cell_type": "code",
   "execution_count": 33,
   "id": "4060ea16-6fcd-4573-9894-67d386f2af37",
   "metadata": {
    "tags": []
   },
   "outputs": [
    {
     "data": {
      "text/plain": [
       "(208, 2560)"
      ]
     },
     "execution_count": 33,
     "metadata": {},
     "output_type": "execute_result"
    }
   ],
   "source": [
    "nx.shape"
   ]
  },
  {
   "cell_type": "code",
   "execution_count": 34,
   "id": "f95ea05f-059d-4325-ae30-7000aeda0a84",
   "metadata": {
    "tags": []
   },
   "outputs": [],
   "source": [
    "pca = PCA(n_components=2)\n",
    "ll = pca.fit_transform(nx)"
   ]
  },
  {
   "cell_type": "code",
   "execution_count": 35,
   "id": "e0a7e25c-2ce6-4c40-85c3-b26fe5698521",
   "metadata": {},
   "outputs": [],
   "source": [
    "names = [name for (name, _, _) in data]"
   ]
  },
  {
   "cell_type": "code",
   "execution_count": 36,
   "id": "1de03231-4ae2-4fb5-801a-de2604b42b6e",
   "metadata": {},
   "outputs": [],
   "source": [
    "new_data = []\n",
    "\n",
    "for encoding, items in zip(ll, data):\n",
    "    new_data.append((*items, encoding[0], encoding[1]))"
   ]
  },
  {
   "cell_type": "code",
   "execution_count": 37,
   "id": "25c07097-b8c2-4fe2-8234-c400e09fa736",
   "metadata": {},
   "outputs": [],
   "source": [
    "results_df = pd.DataFrame(new_data, columns=[\"names\", \"seq\", \"activity\", \"x\", \"y\"])"
   ]
  },
  {
   "cell_type": "code",
   "execution_count": 38,
   "id": "b3aaaf2e-b4f9-47a3-9230-52d60db50920",
   "metadata": {},
   "outputs": [],
   "source": [
    "results_df.to_csv(\"plot_df_encoding.csv\", index=False)"
   ]
  },
  {
   "cell_type": "code",
   "execution_count": null,
   "id": "44cb1e99-c5c2-4eda-8585-e7d3affa420c",
   "metadata": {},
   "outputs": [],
   "source": []
  }
 ],
 "metadata": {
  "kernelspec": {
   "display_name": "Python 3 (ipykernel)",
   "language": "python",
   "name": "python3"
  },
  "language_info": {
   "codemirror_mode": {
    "name": "ipython",
    "version": 3
   },
   "file_extension": ".py",
   "mimetype": "text/x-python",
   "name": "python",
   "nbconvert_exporter": "python",
   "pygments_lexer": "ipython3",
   "version": "3.8.19"
  }
 },
 "nbformat": 4,
 "nbformat_minor": 5
}
